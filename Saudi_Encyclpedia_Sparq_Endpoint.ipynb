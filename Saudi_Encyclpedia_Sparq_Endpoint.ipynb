{
  "nbformat": 4,
  "nbformat_minor": 0,
  "metadata": {
    "colab": {
      "name": "Saudi Encyclpedia Sparq Endpoint.ipynb",
      "provenance": [],
      "collapsed_sections": [
        "9CmAKk_fACOp",
        "NP_I9iD8GhIY"
      ],
      "toc_visible": true
    },
    "kernelspec": {
      "display_name": "Python 3",
      "name": "python3"
    },
    "language_info": {
      "name": "python"
    }
  },
  "cells": [
    {
      "cell_type": "markdown",
      "metadata": {
        "id": "IHQ-cVO4--Np"
      },
      "source": [
        "**Saudi Encyclpedia URL** http://158.101.230.190/mediawiki/index.php"
      ]
    },
    {
      "cell_type": "markdown",
      "metadata": {
        "id": "BP6thoY8kavx"
      },
      "source": [
        "# SPARQL Examples"
      ]
    },
    {
      "cell_type": "code",
      "metadata": {
        "colab": {
          "base_uri": "https://localhost:8080/"
        },
        "id": "K8rkMruVlJOn",
        "outputId": "ad1ca803-fa7f-4f24-9cd0-44ddc262e862"
      },
      "source": [
        "!pip install SPARQLWrapper\n",
        "!pip install rdflib"
      ],
      "execution_count": 1,
      "outputs": [
        {
          "output_type": "stream",
          "text": [
            "Collecting SPARQLWrapper\n",
            "  Downloading https://files.pythonhosted.org/packages/00/9b/443fbe06996c080ee9c1f01b04e2f683b2b07e149905f33a2397ee3b80a2/SPARQLWrapper-1.8.5-py3-none-any.whl\n",
            "Collecting rdflib>=4.0\n",
            "\u001b[?25l  Downloading https://files.pythonhosted.org/packages/d0/6b/6454aa1db753c0f8bc265a5bd5c10b5721a4bb24160fb4faf758cf6be8a1/rdflib-5.0.0-py3-none-any.whl (231kB)\n",
            "\u001b[K     |████████████████████████████████| 235kB 23.1MB/s \n",
            "\u001b[?25hRequirement already satisfied: six in /usr/local/lib/python3.7/dist-packages (from rdflib>=4.0->SPARQLWrapper) (1.15.0)\n",
            "Requirement already satisfied: pyparsing in /usr/local/lib/python3.7/dist-packages (from rdflib>=4.0->SPARQLWrapper) (2.4.7)\n",
            "Collecting isodate\n",
            "\u001b[?25l  Downloading https://files.pythonhosted.org/packages/9b/9f/b36f7774ff5ea8e428fdcfc4bb332c39ee5b9362ddd3d40d9516a55221b2/isodate-0.6.0-py2.py3-none-any.whl (45kB)\n",
            "\u001b[K     |████████████████████████████████| 51kB 7.3MB/s \n",
            "\u001b[?25hInstalling collected packages: isodate, rdflib, SPARQLWrapper\n",
            "Successfully installed SPARQLWrapper-1.8.5 isodate-0.6.0 rdflib-5.0.0\n",
            "Requirement already satisfied: rdflib in /usr/local/lib/python3.7/dist-packages (5.0.0)\n",
            "Requirement already satisfied: pyparsing in /usr/local/lib/python3.7/dist-packages (from rdflib) (2.4.7)\n",
            "Requirement already satisfied: six in /usr/local/lib/python3.7/dist-packages (from rdflib) (1.15.0)\n",
            "Requirement already satisfied: isodate in /usr/local/lib/python3.7/dist-packages (from rdflib) (0.6.0)\n"
          ],
          "name": "stdout"
        }
      ]
    },
    {
      "cell_type": "markdown",
      "metadata": {
        "id": "VvoB3edr8g1Y"
      },
      "source": [
        "**Example 1** استرجاع جميع المحافظات المرتبطة بالمملكة العربية السعودية"
      ]
    },
    {
      "cell_type": "code",
      "metadata": {
        "colab": {
          "base_uri": "https://localhost:8080/"
        },
        "id": "WCkqx1xpsr9f",
        "outputId": "2d5b6413-d9be-482a-beea-ed1f92ce9bc8"
      },
      "source": [
        "from SPARQLWrapper import SPARQLWrapper, XML\n",
        "\n",
        "sparql = SPARQLWrapper(\"http://158.101.230.190:8080/fuseki/ds/query\")\n",
        "sparql.setQuery(\"\"\"\n",
        "\n",
        "prefix rdfs: <http://www.w3.org/2000/01/rdf-schema#>\n",
        "prefix owl: <http://www.w3.org/2002/07/owl#>\n",
        "prefix property:<http://158.101.230.190/mediawiki/index.php/Special:URIResolver/Property-3A>\n",
        "prefix wiki:<http://158.101.230.190/mediawiki/index.php/Special:URIResolver/>\n",
        "\n",
        "\n",
        "SELECT  ?object\n",
        "WHERE {\n",
        "  wiki:الصفحة_الرئيسة property:مرتبط_ب ?object\n",
        "}\n",
        "LIMIT 25\n",
        "\n",
        "\n",
        "\n",
        "\"\"\")\n",
        "\n",
        "sparql.setReturnFormat(XML)\n",
        "results = sparql.query().convert()\n",
        "\n",
        "print(results.toxml())"
      ],
      "execution_count": null,
      "outputs": [
        {
          "output_type": "stream",
          "text": [
            "<?xml version=\"1.0\" ?><sparql xmlns=\"http://www.w3.org/2005/sparql-results#\">\n",
            "  <head>\n",
            "    <variable name=\"object\"/>\n",
            "  </head>\n",
            "  <results>\n",
            "    <result>\n",
            "      <binding name=\"object\">\n",
            "        <uri>http://158.101.230.190/mediawiki/index.php/Special:URIResolver/الرياض</uri>\n",
            "      </binding>\n",
            "    </result>\n",
            "    <result>\n",
            "      <binding name=\"object\">\n",
            "        <uri>http://158.101.230.190/mediawiki/index.php/Special:URIResolver/مكة_المكرمة</uri>\n",
            "      </binding>\n",
            "    </result>\n",
            "    <result>\n",
            "      <binding name=\"object\">\n",
            "        <uri>http://158.101.230.190/mediawiki/index.php/Special:URIResolver/المدينة_المنورة</uri>\n",
            "      </binding>\n",
            "    </result>\n",
            "    <result>\n",
            "      <binding name=\"object\">\n",
            "        <uri>http://158.101.230.190/mediawiki/index.php/Special:URIResolver/المنطقة_الشرقية</uri>\n",
            "      </binding>\n",
            "    </result>\n",
            "    <result>\n",
            "      <binding name=\"object\">\n",
            "        <uri>http://158.101.230.190/mediawiki/index.php/Special:URIResolver/عسير</uri>\n",
            "      </binding>\n",
            "    </result>\n",
            "    <result>\n",
            "      <binding name=\"object\">\n",
            "        <uri>http://158.101.230.190/mediawiki/index.php/Special:URIResolver/جازان</uri>\n",
            "      </binding>\n",
            "    </result>\n",
            "    <result>\n",
            "      <binding name=\"object\">\n",
            "        <uri>http://158.101.230.190/mediawiki/index.php/Special:URIResolver/القصيم</uri>\n",
            "      </binding>\n",
            "    </result>\n",
            "    <result>\n",
            "      <binding name=\"object\">\n",
            "        <uri>http://158.101.230.190/mediawiki/index.php/Special:URIResolver/تبوك</uri>\n",
            "      </binding>\n",
            "    </result>\n",
            "    <result>\n",
            "      <binding name=\"object\">\n",
            "        <uri>http://158.101.230.190/mediawiki/index.php/Special:URIResolver/حائل</uri>\n",
            "      </binding>\n",
            "    </result>\n",
            "    <result>\n",
            "      <binding name=\"object\">\n",
            "        <uri>http://158.101.230.190/mediawiki/index.php/Special:URIResolver/نجران</uri>\n",
            "      </binding>\n",
            "    </result>\n",
            "    <result>\n",
            "      <binding name=\"object\">\n",
            "        <uri>http://158.101.230.190/mediawiki/index.php/Special:URIResolver/الباحة</uri>\n",
            "      </binding>\n",
            "    </result>\n",
            "    <result>\n",
            "      <binding name=\"object\">\n",
            "        <uri>http://158.101.230.190/mediawiki/index.php/Special:URIResolver/الجوف</uri>\n",
            "      </binding>\n",
            "    </result>\n",
            "    <result>\n",
            "      <binding name=\"object\">\n",
            "        <uri>http://158.101.230.190/mediawiki/index.php/Special:URIResolver/الحدود_الشمالية</uri>\n",
            "      </binding>\n",
            "    </result>\n",
            "    <result>\n",
            "      <binding name=\"object\">\n",
            "        <uri>http://158.101.230.190/mediawiki/index.php/Special:URIResolver/مدخل_عام</uri>\n",
            "      </binding>\n",
            "    </result>\n",
            "  </results>\n",
            "</sparql>\n"
          ],
          "name": "stdout"
        }
      ]
    },
    {
      "cell_type": "markdown",
      "metadata": {
        "id": "5hLS-lgC88dJ"
      },
      "source": [
        "**Example 2** استرجاع جميع الابواب التي لديه علاقة \"مرتبط ب\" بمحافظة الرياض\n"
      ]
    },
    {
      "cell_type": "code",
      "metadata": {
        "colab": {
          "base_uri": "https://localhost:8080/"
        },
        "id": "tYqyaAG8Msts",
        "outputId": "f1cc1cb8-a7b4-48ce-b77d-05fc5648f0da"
      },
      "source": [
        "from SPARQLWrapper import SPARQLWrapper, XML\n",
        "\n",
        "sparql = SPARQLWrapper(\"http://158.101.230.190:8080/fuseki/ds/query\")\n",
        "sparql.setQuery(\"\"\"\n",
        "\n",
        "prefix rdfs: <http://www.w3.org/2000/01/rdf-schema#>\n",
        "prefix owl: <http://www.w3.org/2002/07/owl#>\n",
        "prefix property:<http://158.101.230.190/mediawiki/index.php/Special:URIResolver/Property-3A>\n",
        "prefix wiki:<http://158.101.230.190/mediawiki/index.php/Special:URIResolver/>\n",
        "\n",
        "\n",
        "SELECT  ?object\n",
        "WHERE {\n",
        "  wiki:الرياض property:مرتبط_ب ?object\n",
        "}\n",
        "LIMIT 25\n",
        "\n",
        "\n",
        "\n",
        "\"\"\")\n",
        "\n",
        "sparql.setReturnFormat(XML)\n",
        "results = sparql.query().convert()\n",
        "\n",
        "print(results.toxml())"
      ],
      "execution_count": null,
      "outputs": [
        {
          "output_type": "stream",
          "text": [
            "<?xml version=\"1.0\" ?><sparql xmlns=\"http://www.w3.org/2005/sparql-results#\">\n",
            "  <head>\n",
            "    <variable name=\"object\"/>\n",
            "  </head>\n",
            "  <results>\n",
            "    <result>\n",
            "      <binding name=\"object\">\n",
            "        <uri>http://158.101.230.190/mediawiki/index.php/Special:URIResolver/الرياض</uri>\n",
            "      </binding>\n",
            "    </result>\n",
            "    <result>\n",
            "      <binding name=\"object\">\n",
            "        <uri>http://158.101.230.190/mediawiki/index.php/Special:URIResolver/الرياض_الباب_الأول-3A_الخصائص_الجغرافية</uri>\n",
            "      </binding>\n",
            "    </result>\n",
            "    <result>\n",
            "      <binding name=\"object\">\n",
            "        <uri>http://158.101.230.190/mediawiki/index.php/Special:URIResolver/الرياض_الباب_الثاني-3A_التطور_التاريخي</uri>\n",
            "      </binding>\n",
            "    </result>\n",
            "    <result>\n",
            "      <binding name=\"object\">\n",
            "        <uri>http://158.101.230.190/mediawiki/index.php/Special:URIResolver/الرياض_الباب_الثالث-3A_الآثار_والمواقع_التاريخية</uri>\n",
            "      </binding>\n",
            "    </result>\n",
            "    <result>\n",
            "      <binding name=\"object\">\n",
            "        <uri>http://158.101.230.190/mediawiki/index.php/Special:URIResolver/الرياض_الباب_الرابع-3A_الأنماط_الاجتماعية_والعادات_والتقاليد</uri>\n",
            "      </binding>\n",
            "    </result>\n",
            "    <result>\n",
            "      <binding name=\"object\">\n",
            "        <uri>http://158.101.230.190/mediawiki/index.php/Special:URIResolver/الرياض_الباب_الخامس-3A_الحركة_الثقافية</uri>\n",
            "      </binding>\n",
            "    </result>\n",
            "    <result>\n",
            "      <binding name=\"object\">\n",
            "        <uri>http://158.101.230.190/mediawiki/index.php/Special:URIResolver/الرياض_الباب_السادس-3A_الخدمات_والمرافق_التنموية</uri>\n",
            "      </binding>\n",
            "    </result>\n",
            "    <result>\n",
            "      <binding name=\"object\">\n",
            "        <uri>http://158.101.230.190/mediawiki/index.php/Special:URIResolver/الرياض_الباب_السابع-3A_الاقتصاد_والثروات_الطبيعية</uri>\n",
            "      </binding>\n",
            "    </result>\n",
            "    <result>\n",
            "      <binding name=\"object\">\n",
            "        <uri>http://158.101.230.190/mediawiki/index.php/Special:URIResolver/الرياض_الباب_الثامن-3A_الحياة_الفطرية</uri>\n",
            "      </binding>\n",
            "    </result>\n",
            "    <result>\n",
            "      <binding name=\"object\">\n",
            "        <uri>http://158.101.230.190/mediawiki/index.php/Special:URIResolver/الرياض_الباب_التاسع-3A_السياحة_والتنـزه</uri>\n",
            "      </binding>\n",
            "    </result>\n",
            "  </results>\n",
            "</sparql>\n"
          ],
          "name": "stdout"
        }
      ]
    },
    {
      "cell_type": "markdown",
      "metadata": {
        "id": "mzFjiJH_95Q4"
      },
      "source": [
        "**ُُُExample 3** استرجاع جميع الفصول المرتبط ب الرياض الباب الأول : الخصائص الجغرافية"
      ]
    },
    {
      "cell_type": "code",
      "metadata": {
        "colab": {
          "base_uri": "https://localhost:8080/"
        },
        "id": "Rw9IOtLqNh73",
        "outputId": "dcd3c21d-9d5e-481a-af71-769d0100538c"
      },
      "source": [
        "from SPARQLWrapper import SPARQLWrapper, XML\n",
        "\n",
        "sparql = SPARQLWrapper(\"http://158.101.230.190:8080/fuseki/ds/query\")\n",
        "sparql.setQuery(\"\"\"\n",
        "\n",
        "prefix rdfs: <http://www.w3.org/2000/01/rdf-schema#>\n",
        "prefix owl: <http://www.w3.org/2002/07/owl#>\n",
        "prefix property:<http://158.101.230.190/mediawiki/index.php/Special:URIResolver/Property-3A>\n",
        "prefix wiki:<http://158.101.230.190/mediawiki/index.php/Special:URIResolver/>\n",
        "\n",
        "\n",
        "SELECT  ?object\n",
        "WHERE {\n",
        "  wiki:الرياض_الباب_الأول-3A_الخصائص_الجغرافية property:مرتبط_ب ?object\n",
        "}\n",
        "LIMIT 25\n",
        "\n",
        "\n",
        "\n",
        "\"\"\")\n",
        "\n",
        "sparql.setReturnFormat(XML)\n",
        "results = sparql.query().convert()\n",
        "\n",
        "print(results.toxml())"
      ],
      "execution_count": null,
      "outputs": [
        {
          "output_type": "stream",
          "text": [
            "<?xml version=\"1.0\" ?><sparql xmlns=\"http://www.w3.org/2005/sparql-results#\">\n",
            "  <head>\n",
            "    <variable name=\"object\"/>\n",
            "  </head>\n",
            "  <results>\n",
            "    <result>\n",
            "      <binding name=\"object\">\n",
            "        <uri>http://158.101.230.190/mediawiki/index.php/Special:URIResolver/الرياض</uri>\n",
            "      </binding>\n",
            "    </result>\n",
            "    <result>\n",
            "      <binding name=\"object\">\n",
            "        <uri>http://158.101.230.190/mediawiki/index.php/Special:URIResolver/الرياض_الفصل_الأول-3A_الموقع_والمساحة_ونطاق_الإشراف_الإداري</uri>\n",
            "      </binding>\n",
            "    </result>\n",
            "    <result>\n",
            "      <binding name=\"object\">\n",
            "        <uri>http://158.101.230.190/mediawiki/index.php/Special:URIResolver/الرياض_الفصل_الثاني-3A_الجيولوجيا_والتضاريس</uri>\n",
            "      </binding>\n",
            "    </result>\n",
            "    <result>\n",
            "      <binding name=\"object\">\n",
            "        <uri>http://158.101.230.190/mediawiki/index.php/Special:URIResolver/الرياض_الفصل_الثالث-3A_المناخ</uri>\n",
            "      </binding>\n",
            "    </result>\n",
            "    <result>\n",
            "      <binding name=\"object\">\n",
            "        <uri>http://158.101.230.190/mediawiki/index.php/Special:URIResolver/الرياض_الفصل_الرابع-3A_التربة</uri>\n",
            "      </binding>\n",
            "    </result>\n",
            "    <result>\n",
            "      <binding name=\"object\">\n",
            "        <uri>http://158.101.230.190/mediawiki/index.php/Special:URIResolver/الرياض_الفصل_الخامس-3A_موارد_المياه</uri>\n",
            "      </binding>\n",
            "    </result>\n",
            "    <result>\n",
            "      <binding name=\"object\">\n",
            "        <uri>http://158.101.230.190/mediawiki/index.php/Special:URIResolver/الرياض_الفصل_السادس-3A_السكان</uri>\n",
            "      </binding>\n",
            "    </result>\n",
            "    <result>\n",
            "      <binding name=\"object\">\n",
            "        <uri>http://158.101.230.190/mediawiki/index.php/Special:URIResolver/الرياض_الفصل_السابع-3A_العمران</uri>\n",
            "      </binding>\n",
            "    </result>\n",
            "  </results>\n",
            "</sparql>\n"
          ],
          "name": "stdout"
        }
      ]
    },
    {
      "cell_type": "markdown",
      "metadata": {
        "id": "l6uKV4cp-or4"
      },
      "source": [
        "**Example 4** استرجاع جميع الابواب التي لديه علاقة \"مرتبط ب\" بمحافظة المدينة المنورة"
      ]
    },
    {
      "cell_type": "code",
      "metadata": {
        "colab": {
          "base_uri": "https://localhost:8080/"
        },
        "id": "Y9RCcVCjPAuv",
        "outputId": "e01261ea-5802-4e3d-beeb-80e143d4fe82"
      },
      "source": [
        "from SPARQLWrapper import SPARQLWrapper, XML\n",
        "\n",
        "sparql = SPARQLWrapper(\"http://158.101.230.190:8080/fuseki/ds/query\")\n",
        "sparql.setQuery(\"\"\"\n",
        "\n",
        "prefix rdfs: <http://www.w3.org/2000/01/rdf-schema#>\n",
        "prefix owl: <http://www.w3.org/2002/07/owl#>\n",
        "prefix property:<http://158.101.230.190/mediawiki/index.php/Special:URIResolver/Property-3A>\n",
        "prefix wiki:<http://158.101.230.190/mediawiki/index.php/Special:URIResolver/>\n",
        "\n",
        "\n",
        "SELECT  ?object\n",
        "WHERE {\n",
        "  wiki:المدينة_المنورة property:مرتبط_ب ?object\n",
        "}\n",
        "LIMIT 25\n",
        "\n",
        "\n",
        "\n",
        "\"\"\")\n",
        "\n",
        "sparql.setReturnFormat(XML)\n",
        "results = sparql.query().convert()\n",
        "\n",
        "print(results.toxml())"
      ],
      "execution_count": null,
      "outputs": [
        {
          "output_type": "stream",
          "text": [
            "<?xml version=\"1.0\" ?><sparql xmlns=\"http://www.w3.org/2005/sparql-results#\">\n",
            "  <head>\n",
            "    <variable name=\"object\"/>\n",
            "  </head>\n",
            "  <results>\n",
            "    <result>\n",
            "      <binding name=\"object\">\n",
            "        <uri>http://158.101.230.190/mediawiki/index.php/Special:URIResolver/المدينة_المنورة</uri>\n",
            "      </binding>\n",
            "    </result>\n",
            "    <result>\n",
            "      <binding name=\"object\">\n",
            "        <uri>http://158.101.230.190/mediawiki/index.php/Special:URIResolver/Https-3A//dbpedia.org/page/Medina</uri>\n",
            "      </binding>\n",
            "    </result>\n",
            "    <result>\n",
            "      <binding name=\"object\">\n",
            "        <uri>http://158.101.230.190/mediawiki/index.php/Special:URIResolver/المدينة_المنورة_الباب_الأول-3A_الخصائص_الجغرافية</uri>\n",
            "      </binding>\n",
            "    </result>\n",
            "    <result>\n",
            "      <binding name=\"object\">\n",
            "        <uri>http://158.101.230.190/mediawiki/index.php/Special:URIResolver/المدينة_المنورة_الباب_الثاني-3A_التطور_التاريخي</uri>\n",
            "      </binding>\n",
            "    </result>\n",
            "    <result>\n",
            "      <binding name=\"object\">\n",
            "        <uri>http://158.101.230.190/mediawiki/index.php/Special:URIResolver/المدينة_المنورة_الباب_الثالث-3A_الآثار_والمواقع_التاريخية</uri>\n",
            "      </binding>\n",
            "    </result>\n",
            "    <result>\n",
            "      <binding name=\"object\">\n",
            "        <uri>http://158.101.230.190/mediawiki/index.php/Special:URIResolver/المدينة_المنورة_الباب_الرابع-3A_الأنماط_الاجتماعية_والعادات_والتقاليد</uri>\n",
            "      </binding>\n",
            "    </result>\n",
            "    <result>\n",
            "      <binding name=\"object\">\n",
            "        <uri>http://158.101.230.190/mediawiki/index.php/Special:URIResolver/المدينة_المنورة_الباب_الخامس-3A_الحركة_الثقافية</uri>\n",
            "      </binding>\n",
            "    </result>\n",
            "    <result>\n",
            "      <binding name=\"object\">\n",
            "        <uri>http://158.101.230.190/mediawiki/index.php/Special:URIResolver/المدينة_المنورة_الباب_السادس-3A_الخدمات_والمرافق_التنموية</uri>\n",
            "      </binding>\n",
            "    </result>\n",
            "    <result>\n",
            "      <binding name=\"object\">\n",
            "        <uri>http://158.101.230.190/mediawiki/index.php/Special:URIResolver/المدينة_المنورة_الباب_السابع-3A_الاقتصاد_والثروات_الطبيعية</uri>\n",
            "      </binding>\n",
            "    </result>\n",
            "    <result>\n",
            "      <binding name=\"object\">\n",
            "        <uri>http://158.101.230.190/mediawiki/index.php/Special:URIResolver/المدينة_المنورة_الباب_الثامن-3A_الحياة_الفطرية</uri>\n",
            "      </binding>\n",
            "    </result>\n",
            "    <result>\n",
            "      <binding name=\"object\">\n",
            "        <uri>http://158.101.230.190/mediawiki/index.php/Special:URIResolver/المدينة_المنورة_الباب_التاسع-3A_السياحة_والتنـزه</uri>\n",
            "      </binding>\n",
            "    </result>\n",
            "  </results>\n",
            "</sparql>\n"
          ],
          "name": "stdout"
        }
      ]
    },
    {
      "cell_type": "markdown",
      "metadata": {
        "id": "Rms1Is0D-uSY"
      },
      "source": [
        "**Example 5** استرجاع جميع الابواب التي لديه علاقة \"مرتبط ب\" بمحافظة مكة المكرمة"
      ]
    },
    {
      "cell_type": "code",
      "metadata": {
        "colab": {
          "base_uri": "https://localhost:8080/"
        },
        "id": "MBY6XOP_eOfK",
        "outputId": "a37e4c85-2a16-4eeb-fd13-9ff4f7fb09f0"
      },
      "source": [
        "from SPARQLWrapper import SPARQLWrapper, XML\n",
        "\n",
        "sparql = SPARQLWrapper(\"http://158.101.230.190:8080/fuseki/ds/query\")\n",
        "sparql.setQuery(\"\"\"\n",
        "\n",
        "prefix rdfs: <http://www.w3.org/2000/01/rdf-schema#>\n",
        "prefix owl: <http://www.w3.org/2002/07/owl#>\n",
        "prefix property:<http://158.101.230.190/mediawiki/index.php/Special:URIResolver/Property-3A>\n",
        "prefix wiki:<http://158.101.230.190/mediawiki/index.php/Special:URIResolver/>\n",
        "\n",
        "\n",
        "SELECT  ?object\n",
        "WHERE {\n",
        "  wiki:مكة_المكرمة property:مرتبط_ب ?object\n",
        "}\n",
        "LIMIT 25\n",
        "\n",
        "\n",
        "\n",
        "\"\"\")\n",
        "sparql.setReturnFormat(XML)\n",
        "results = sparql.query().convert()\n",
        "\n",
        "print(results.toxml())"
      ],
      "execution_count": null,
      "outputs": [
        {
          "output_type": "stream",
          "text": [
            "<?xml version=\"1.0\" ?><sparql xmlns=\"http://www.w3.org/2005/sparql-results#\">\n",
            "  <head>\n",
            "    <variable name=\"object\"/>\n",
            "  </head>\n",
            "  <results>\n",
            "    <result>\n",
            "      <binding name=\"object\">\n",
            "        <uri>http://158.101.230.190/mediawiki/index.php/Special:URIResolver/مكة_المكرمة</uri>\n",
            "      </binding>\n",
            "    </result>\n",
            "    <result>\n",
            "      <binding name=\"object\">\n",
            "        <uri>http://158.101.230.190/mediawiki/index.php/Special:URIResolver/مكة_المكرمة_الباب_الأول-3A_الخصائص_الجغرافية</uri>\n",
            "      </binding>\n",
            "    </result>\n",
            "    <result>\n",
            "      <binding name=\"object\">\n",
            "        <uri>http://158.101.230.190/mediawiki/index.php/Special:URIResolver/مكة_المكرمة_الباب_الثاني-3A_التطور_التاريخي</uri>\n",
            "      </binding>\n",
            "    </result>\n",
            "    <result>\n",
            "      <binding name=\"object\">\n",
            "        <uri>http://158.101.230.190/mediawiki/index.php/Special:URIResolver/مكة_المكرمة_الباب_الثالث-3A_الآثار_والمواقع_التاريخية</uri>\n",
            "      </binding>\n",
            "    </result>\n",
            "    <result>\n",
            "      <binding name=\"object\">\n",
            "        <uri>http://158.101.230.190/mediawiki/index.php/Special:URIResolver/مكة_المكرمة_الباب_الرابع-3A_الأنماط_الاجتماعية_والعادات_والتقاليد</uri>\n",
            "      </binding>\n",
            "    </result>\n",
            "    <result>\n",
            "      <binding name=\"object\">\n",
            "        <uri>http://158.101.230.190/mediawiki/index.php/Special:URIResolver/مكة_المكرمة_الباب_الخامس-3A_الحركة_الثقافية</uri>\n",
            "      </binding>\n",
            "    </result>\n",
            "    <result>\n",
            "      <binding name=\"object\">\n",
            "        <uri>http://158.101.230.190/mediawiki/index.php/Special:URIResolver/مكة_المكرمة_الباب_السادس-3A_الخدمات_والمرافق_التنموية</uri>\n",
            "      </binding>\n",
            "    </result>\n",
            "    <result>\n",
            "      <binding name=\"object\">\n",
            "        <uri>http://158.101.230.190/mediawiki/index.php/Special:URIResolver/مكة_المكرمة_الباب_السابع-3A_الاقتصاد_والثروات_الطبيعية</uri>\n",
            "      </binding>\n",
            "    </result>\n",
            "    <result>\n",
            "      <binding name=\"object\">\n",
            "        <uri>http://158.101.230.190/mediawiki/index.php/Special:URIResolver/مكة_المكرمة_الباب_الثامن-3A_الحياة_الفطرية</uri>\n",
            "      </binding>\n",
            "    </result>\n",
            "    <result>\n",
            "      <binding name=\"object\">\n",
            "        <uri>http://158.101.230.190/mediawiki/index.php/Special:URIResolver/مكة_المكرمة_الباب_التاسع-3A_السياحة_والتنـزه</uri>\n",
            "      </binding>\n",
            "    </result>\n",
            "  </results>\n",
            "</sparql>\n"
          ],
          "name": "stdout"
        }
      ]
    }
  ]
}